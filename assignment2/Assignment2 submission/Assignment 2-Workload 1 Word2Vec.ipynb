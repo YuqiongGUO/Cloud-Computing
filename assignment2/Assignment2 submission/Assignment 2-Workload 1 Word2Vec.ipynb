{
 "cells": [
  {
   "cell_type": "markdown",
   "metadata": {},
   "source": [
    "### Assignment 2-Workload 1"
   ]
  },
  {
   "cell_type": "code",
   "execution_count": 1,
   "metadata": {},
   "outputs": [],
   "source": [
    "from pyspark.sql import SparkSession\n",
    "from pyspark.sql.functions import *\n",
    "import pyspark.sql.functions as F"
   ]
  },
  {
   "cell_type": "code",
   "execution_count": 2,
   "metadata": {},
   "outputs": [],
   "source": [
    "spark = SparkSession \\\n",
    "    .builder \\\n",
    "    .appName(\"Assignment2_workload1_Word2Vec\") \\\n",
    "    .getOrCreate()"
   ]
  },
  {
   "cell_type": "markdown",
   "metadata": {},
   "source": [
    "### Data preparation"
   ]
  },
  {
   "cell_type": "code",
   "execution_count": 3,
   "metadata": {},
   "outputs": [],
   "source": [
    "rawdata = spark.read.option(\"multiline\",\"true\").json(\"tweets.json\")\n",
    "usertweet = rawdata.select(\"user_id\",\"replyto_id\",\"retweet_id\")\n",
    "\n",
    "#combine reply and retweet\n",
    "#groupby user and collect reply&retweet id named as DP\n",
    "user_rp_rt = usertweet.withColumn(\"rp_rt\", concat_ws(',', usertweet['replyto_id'],usertweet['retweet_id'])) \\\n",
    "             .groupBy(\"user_id\") \\\n",
    "             .agg((collect_list(\"rp_rt\"))) \\\n",
    "             .withColumnRenamed(\"collect_list(rp_rt)\",\"document_presentation\")\n",
    "# user_rp_rt = user_rp_rt.withColumn(\"document_presentation\", concat_ws(',', user_rp_rt['document_presentation']))\n",
    "# user_rp_rt = user_rp_rt.withColumn(\"document_presentation\",F.split(user_rp_rt.document_presentation, \",\"))\n",
    "# user_rp_rt.show(20)  #truncate=False\n",
    "# user_rp_rt.printSchema()"
   ]
  },
  {
   "cell_type": "markdown",
   "metadata": {},
   "source": [
    "### Feature extractors:Word2Vec"
   ]
  },
  {
   "cell_type": "code",
   "execution_count": 4,
   "metadata": {},
   "outputs": [],
   "source": [
    "#implement Word2Vec\n",
    "from pyspark.ml.feature import Word2Vec\n",
    "\n",
    "word2Vec = Word2Vec(vectorSize=5, minCount=0, inputCol=\"document_presentation\",outputCol=\"word2vec\")\n",
    "model = word2Vec.fit(user_rp_rt)\n",
    "\n",
    "user_rp_rt_word2Vec = model.transform(user_rp_rt)\n",
    "# user_rp_rt_word2Vec.select(\"user_id\",\"word2vec\").show(truncate=False)"
   ]
  },
  {
   "cell_type": "code",
   "execution_count": 5,
   "metadata": {},
   "outputs": [
    {
     "name": "stdout",
     "output_type": "stream",
     "text": [
      "Top 5 similar interest user with 157101980 is\n",
      "3338485689\n",
      "1374238121924165641\n",
      "263406194\n",
      "52527662\n",
      "762090580864278528\n"
     ]
    }
   ],
   "source": [
    "#find the vector for selected test_id\n",
    "test_id = 157101980 \n",
    "test_row = user_rp_rt_word2Vec.filter(user_rp_rt_word2Vec[\"user_id\"] == test_id).collect()\n",
    "test_vector = test_row[0].asDict()[\"word2vec\"]\n",
    "\n",
    "#find the vectors for all the other users except selected test_id\n",
    "compare_vector_rdd = user_rp_rt_word2Vec.filter(user_rp_rt_word2Vec[\"user_id\"] != test_id) \\\n",
    "                                        .rdd.map(lambda x: (x[0], x[2]))\n",
    "\n",
    "#cosine similarity function\n",
    "def cosine_similarity(a,b):\n",
    "    similarity = a.dot(b)/(a.norm(2)*b.norm(2))\n",
    "    return similarity\n",
    "\n",
    "#calculate cosine similarity for all other users compared with selected user\n",
    "sim_user = compare_vector_rdd.map(lambda x : (x[0], cosine_similarity(test_vector, x[1])))\n",
    "\n",
    "#find the top 5 user\n",
    "sim_user_top5 = sim_user.sortBy(lambda x: x[1],ascending=False).take(5)\n",
    "\n",
    "print(\"Top 5 similar interest user with\", test_id, \"is\")\n",
    "\n",
    "for items in sim_user_top5:\n",
    "    print(items[0])"
   ]
  },
  {
   "cell_type": "code",
   "execution_count": null,
   "metadata": {},
   "outputs": [],
   "source": []
  }
 ],
 "metadata": {
  "kernelspec": {
   "display_name": "Python 3",
   "language": "python",
   "name": "python3"
  },
  "language_info": {
   "codemirror_mode": {
    "name": "ipython",
    "version": 3
   },
   "file_extension": ".py",
   "mimetype": "text/x-python",
   "name": "python",
   "nbconvert_exporter": "python",
   "pygments_lexer": "ipython3",
   "version": "3.8.8"
  }
 },
 "nbformat": 4,
 "nbformat_minor": 2
}
